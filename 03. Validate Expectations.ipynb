{
 "cells": [
  {
   "cell_type": "markdown",
   "metadata": {},
   "source": [
    "# Run the validation Suite"
   ]
  },
  {
   "cell_type": "code",
   "execution_count": 1,
   "metadata": {},
   "outputs": [],
   "source": [
    "import great_expectations as ge\n",
    "import pandas as pd\n",
    "import json\n",
    "import pipeline"
   ]
  },
  {
   "cell_type": "code",
   "execution_count": 2,
   "metadata": {},
   "outputs": [],
   "source": [
    "def load_expectation_suite(path: str) -> dict:\n",
    "    \"\"\"Load expectation suite stored in JSON format\n",
    "    and convert into dictionary.\n",
    "    Args:\n",
    "        path (str): path to expectation suite json file\n",
    "    Returns:\n",
    "        dict: expectation suite\n",
    "    \"\"\"\n",
    "    with open(path, 'r') as f:\n",
    "        expectation_suite = json.load(f)\n",
    "    return expectation_suite\n",
    "    \n",
    "def great_expectation_validation(df: pd.DataFrame,\n",
    "                                 expectation_suite_path: str) -> dict:\n",
    "    \"\"\"Run validation on DataFrame based on expecation suite\n",
    "    Args:\n",
    "        df (pd.DataFrame): DataFrame to validate\n",
    "        expectation_suite_path (str): path to expectation suite json file\n",
    "    Returns:\n",
    "        dict: Validation result\n",
    "    \"\"\"\n",
    "    expectation_suite = load_expectation_suite(expectation_suite_path)\n",
    "    gdf = ge.from_pandas(df, expectation_suite=expectation_suite)\n",
    "    validation_results = gdf.validate(result_format = 'SUMMARY', catch_exceptions = True)\n",
    "    return validation_results"
   ]
  },
  {
   "cell_type": "code",
   "execution_count": 3,
   "metadata": {},
   "outputs": [],
   "source": [
    "input_path = './titanic_data.csv'\n",
    "output_path = './titanic_data_processed.csv'\n",
    "expectation_suite_path = \"./my_expectation_file.json\"\n",
    "\n",
    "df = pipeline.run_pipeline(input_path, output_path)\n",
    "gdf = ge.from_pandas(df)\n",
    "\n",
    "validation_result = great_expectation_validation(df = gdf, expectation_suite_path = expectation_suite_path)"
   ]
  },
  {
   "cell_type": "code",
   "execution_count": 4,
   "metadata": {},
   "outputs": [
    {
     "data": {
      "text/plain": [
       "True"
      ]
     },
     "execution_count": 4,
     "metadata": {},
     "output_type": "execute_result"
    }
   ],
   "source": [
    "validation_result['success']"
   ]
  },
  {
   "cell_type": "code",
   "execution_count": 5,
   "metadata": {},
   "outputs": [
    {
     "data": {
      "text/plain": [
       "{'evaluated_expectations': 4,\n",
       " 'successful_expectations': 4,\n",
       " 'unsuccessful_expectations': 0,\n",
       " 'success_percent': 100.0}"
      ]
     },
     "execution_count": 5,
     "metadata": {},
     "output_type": "execute_result"
    }
   ],
   "source": [
    "validation_result['statistics']"
   ]
  },
  {
   "cell_type": "code",
   "execution_count": 6,
   "metadata": {},
   "outputs": [
    {
     "name": "stdout",
     "output_type": "stream",
     "text": [
      "success: expect_table_columns_to_match_set\n",
      "success: expect_column_values_to_not_be_null\n",
      "success: expect_column_values_to_be_unique\n",
      "success: expect_column_values_to_be_in_set\n"
     ]
    }
   ],
   "source": [
    "for r in validation_result['results']:\n",
    "    if not(r['success']):\n",
    "        print (f\"failed: {r['expectation_config']['expectation_type']}\")\n",
    "    else:\n",
    "        print (f\"success: {r['expectation_config']['expectation_type']}\")"
   ]
  },
  {
   "cell_type": "markdown",
   "metadata": {},
   "source": [
    "# Store Validation results to keep statistics of data quality"
   ]
  },
  {
   "cell_type": "code",
   "execution_count": 7,
   "metadata": {},
   "outputs": [],
   "source": [
    "import datetime\n",
    "\n",
    "datetime_object = datetime.datetime.now()\n",
    "\n",
    "date_time_str = datetime_object.strftime('%Y%m%d%H%M%S')\n"
   ]
  },
  {
   "cell_type": "code",
   "execution_count": 8,
   "metadata": {},
   "outputs": [],
   "source": [
    "with open( f\"./validation_results_achive/validation{date_time_str}.json\", \"w\") as my_file:\n",
    "    my_file.write(\n",
    "        json.dumps(validation_result.to_json_dict(), sort_keys=True, indent=4)\n",
    "    )"
   ]
  },
  {
   "cell_type": "code",
   "execution_count": null,
   "metadata": {},
   "outputs": [],
   "source": []
  }
 ],
 "metadata": {
  "kernelspec": {
   "display_name": "Python 3.9.13 ('data')",
   "language": "python",
   "name": "python3"
  },
  "language_info": {
   "codemirror_mode": {
    "name": "ipython",
    "version": 3
   },
   "file_extension": ".py",
   "mimetype": "text/x-python",
   "name": "python",
   "nbconvert_exporter": "python",
   "pygments_lexer": "ipython3",
   "version": "3.9.13"
  },
  "orig_nbformat": 4,
  "vscode": {
   "interpreter": {
    "hash": "8609359bf43eb0271a7dc5d0851e2dcdf76c770a6a70458eff3b39e8af482b12"
   }
  }
 },
 "nbformat": 4,
 "nbformat_minor": 2
}
